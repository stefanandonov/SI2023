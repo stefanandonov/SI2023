{
  "nbformat": 4,
  "nbformat_minor": 0,
  "metadata": {
    "colab": {
      "provenance": [],
      "authorship_tag": "ABX9TyMShOEDsYCsTegWn0wuBIjN",
      "include_colab_link": true
    },
    "kernelspec": {
      "name": "python3",
      "display_name": "Python 3"
    },
    "language_info": {
      "name": "python"
    }
  },
  "cells": [
    {
      "cell_type": "markdown",
      "metadata": {
        "id": "view-in-github",
        "colab_type": "text"
      },
      "source": [
        "<a href=\"https://colab.research.google.com/github/vojvodata/SI2023/blob/master/%D0%92%D0%B8%D0%BD%D0%B0%D1%80%D0%B8%D0%B8_%D0%B2%D0%BE_%D0%A0_%D0%9C%D0%B0%D0%BA%D0%B5%D0%B4%D0%BE%D0%BD%D0%B8%D1%98%D0%B0.ipynb\" target=\"_parent\"><img src=\"https://colab.research.google.com/assets/colab-badge.svg\" alt=\"Open In Colab\"/></a>"
      ]
    },
    {
      "cell_type": "code",
      "execution_count": 30,
      "metadata": {
        "id": "lD6e9puy0mci"
      },
      "outputs": [],
      "source": [
        "import pandas as pd\n"
      ]
    },
    {
      "cell_type": "code",
      "source": [
        "from google.colab import drive\n",
        "\n",
        "drive.mount('/content/drive')"
      ],
      "metadata": {
        "id": "6mWh-GT000y8",
        "colab": {
          "base_uri": "https://localhost:8080/"
        },
        "outputId": "a8171a8a-88b6-4959-8f60-22ee2ab8dfdb"
      },
      "execution_count": 31,
      "outputs": [
        {
          "output_type": "stream",
          "name": "stdout",
          "text": [
            "Drive already mounted at /content/drive; to attempt to forcibly remount, call drive.mount(\"/content/drive\", force_remount=True).\n"
          ]
        }
      ]
    },
    {
      "cell_type": "code",
      "source": [
        "data = pd.read_csv('/content/drive/My Drive/wineries-in-macedonia.csv')\n",
        "\n",
        "# овде правиме филтер да ни останат само винариите кои што main_category им е Винарија\n",
        "filter_main_category = data[data['main_category'].str.contains('Винарија', case=False, na=False)]\n",
        "filter_main_category.to_csv('vinarii.csv', index=False)\n",
        "\n",
        "# ќе ја избришеме колоната каде што ни се линковите од google maps бидејќи моментално не ни се потребни\n",
        "drop_link = filter_main_category.drop('link', axis=1)\n",
        "\n",
        "# овде ги бришеме редиците кај кои што имаме празно поле или null за одредена вредност\n",
        "newData = drop_link.dropna()\n",
        "\n",
        "newData.to_csv('/content/drive/MyDrive/filtered_wineries_in_macedonia.csv', index=False)\n",
        "newData"
      ],
      "metadata": {
        "id": "N_thcHfa00wF"
      },
      "execution_count": null,
      "outputs": []
    },
    {
      "cell_type": "code",
      "source": [
        "# правиме филтер каде што ќе ни останат само винариите во Скопје\n",
        "filtered_data = newData[newData['address'].str.contains('Skopje', case=False, na=False) | newData['address'].str.contains('Скопје', case=False, na=False)]\n",
        "filtered_data.to_csv('/content/drive/MyDrive/filtered_wineries_in_skopje.csv', index=False)\n",
        "\n",
        "filtered_data"
      ],
      "metadata": {
        "id": "m0tfW5tx00tI"
      },
      "execution_count": null,
      "outputs": []
    },
    {
      "cell_type": "code",
      "source": [
        "# правиме филтер каде што ќе ни останат само Винариите во Кавадарци\n",
        "filtered_data1 = newData[newData['address'].str.contains('Kavadarci', case=False, na=False) | newData['address'].str.contains('Кавадарци', case=False, na=False)]\n",
        "filtered_data1.to_csv('/content/drive/MyDrive/filtered_wineries_in_kavadarci.csv', index=False)\n",
        "\n",
        "filtered_data1"
      ],
      "metadata": {
        "id": "9YWUiXgK5hfb"
      },
      "execution_count": null,
      "outputs": []
    },
    {
      "cell_type": "code",
      "source": [
        "# правиме филтер каде што ќе ни останат само Винариите во Велес\n",
        "filtered_data2 = newData[newData['address'].str.contains('Veles', case=False, na=False) | newData['address'].str.contains('Велес', case=False, na=False)]\n",
        "filtered_data2.to_csv('/content/drive/MyDrive/filtered_wineries_in_veles.csv', index=False)\n",
        "\n",
        "filtered_data2"
      ],
      "metadata": {
        "id": "1-uOrDcb5hau"
      },
      "execution_count": null,
      "outputs": []
    },
    {
      "cell_type": "code",
      "source": [
        "# правиме филтер каде што ќе ни останат само Винариите во Неготино\n",
        "filtered_data3 = newData[newData['address'].str.contains('Negotino', case=False, na=False) | newData['address'].str.contains('Неготино', case=False, na=False)]\n",
        "filtered_data3.to_csv('/content/drive/MyDrive/filtered_wineries_in_negotino.csv', index=False)\n",
        "\n",
        "filtered_data3"
      ],
      "metadata": {
        "id": "kZJgCqneFRT1"
      },
      "execution_count": null,
      "outputs": []
    },
    {
      "cell_type": "code",
      "source": [
        "# правиме филтер на винарии со оцена од 4.5 до 5.0\n",
        "filter_rating = newData[newData['rating'] >= 4.5]\n",
        "filter_rating.to_csv('/content/drive/MyDrive/filter_rating 4.5-5.0.csv', index=False)\n",
        "\n",
        "\n",
        "# потоа овој филтер filter_rating го испраќаме во друга цефка за да ги исфилтрираме тие што се над 4.0 оцена и дополнително кои што имаат барем 30 рецензии\n",
        "filter_reviews = filter_rating[filter_rating['reviews'] >= 30]\n",
        "filter_reviews.to_csv('/content/drive/MyDrive/filter_rating_review.csv', index=False)\n",
        "\n",
        "# истиот филтер од горе сега ќе го направиме за со винарии со помалку од 30 рецензии\n",
        "filter_reviews1 = filter_rating[(filter_rating['reviews'] < 30)]\n",
        "filter_reviews1.to_csv('/content/drive/MyDrive/filter_rating_review1.csv', index=False)"
      ],
      "metadata": {
        "id": "KynrYyw9FRO2"
      },
      "execution_count": 88,
      "outputs": []
    },
    {
      "cell_type": "code",
      "source": [
        "# винарии кои што имаат оцена од 5.0\n",
        "filter_five_star_rating = newData[newData['rating'] == 5.0]\n",
        "filter_five_star_rating.to_csv('/content/drive/MyDrive/filter_five_star_rating.csv', index=False)\n",
        "\n",
        "# винарии кои што имаат оцена од 5.0 и барем од 10 рецензии\n",
        "filter_five_star_rating_review = filter_five_star_rating[filter_five_star_rating['reviews'] >= 10]\n",
        "filter_five_star_rating_review.to_csv('/content/drive/MyDrive/filter_five_star_rating_review.csv', index=False)"
      ],
      "metadata": {
        "id": "Ui7pPYNyFRJ5"
      },
      "execution_count": 89,
      "outputs": []
    },
    {
      "cell_type": "code",
      "source": [
        "# следно имаме филтри за оцените 4.9, 4.8, 4.7, 4.6 и 4.5 поединечно\n",
        "\n",
        "filter_rating49 = newData[newData['rating'] == 4.9]\n",
        "filter_rating49.to_csv('/content/drive/MyDrive/filter_rating4.9.csv', index=False)\n",
        "\n",
        "filter_rating48 = newData[newData['rating'] == 4.8]\n",
        "filter_rating48.to_csv('/content/drive/MyDrive/filter_rating4.8.csv', index=False)\n",
        "\n",
        "filter_rating47 = newData[newData['rating'] == 4.7]\n",
        "filter_rating47.to_csv('/content/drive/MyDrive/filter_rating4.7.csv', index=False)\n",
        "\n",
        "filter_rating46 = newData[newData['rating'] == 4.6]\n",
        "filter_rating46.to_csv('/content/drive/MyDrive/filter_rating4.6.csv', index=False)\n",
        "\n",
        "filter_rating45 = newData[newData['rating'] == 4.5]\n",
        "filter_rating45.to_csv('/content/drive/MyDrive/filter_rating4.5.csv', index=False)"
      ],
      "metadata": {
        "id": "PcwbyvIVFRCm"
      },
      "execution_count": 91,
      "outputs": []
    }
  ]
}